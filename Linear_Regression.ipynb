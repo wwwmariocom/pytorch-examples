{
  "nbformat": 4,
  "nbformat_minor": 0,
  "metadata": {
    "colab": {
      "name": "PyTorch - Linear Regression.ipynb",
      "provenance": [],
      "collapsed_sections": []
    },
    "kernelspec": {
      "name": "python3",
      "display_name": "Python 3"
    },
    "language_info": {
      "name": "python"
    },
    "accelerator": "GPU",
    "gpuClass": "standard"
  },
  "cells": [
    {
      "cell_type": "markdown",
      "source": [
        "# Simple Linear Regression Model"
      ],
      "metadata": {
        "id": "dKsMTeWnVLSP"
      }
    },
    {
      "cell_type": "code",
      "execution_count": 1,
      "metadata": {
        "id": "Dp19Tab8KGg8"
      },
      "outputs": [],
      "source": [
        "import torch\n",
        "from torch.autograd import Variable\n",
        "\n",
        "import numpy as np\n",
        "\n",
        "import matplotlib.pyplot as plt\n",
        "\n",
        "import random"
      ]
    },
    {
      "cell_type": "markdown",
      "source": [
        "## Generate fake data"
      ],
      "metadata": {
        "id": "pvdDrBIlRIMc"
      }
    },
    {
      "cell_type": "code",
      "source": [
        "x = [i for i in range(1000)]\n",
        "x = np.array(x, dtype=np.float32).reshape(-1, 1)\n",
        "\n",
        "y = [0.1 * a + random.uniform(-10, 10) for a in x]\n",
        "y = np.array(y, dtype=np.float32).reshape(-1, 1)\n",
        "\n",
        "data = np.hstack([x,y])"
      ],
      "metadata": {
        "id": "iJ_4WRh3Mq7S"
      },
      "execution_count": 2,
      "outputs": []
    },
    {
      "cell_type": "markdown",
      "source": [
        "## Select random rows and display scatter plot"
      ],
      "metadata": {
        "id": "i8_e750xRKYt"
      }
    },
    {
      "cell_type": "code",
      "source": [
        "random_rows = np.random.randint(0, data.shape[0], size=100)\n",
        "data_train = data[~random_rows, :]\n",
        "data_test = data[random_rows, :]"
      ],
      "metadata": {
        "id": "vWckN0K8M6rK"
      },
      "execution_count": 3,
      "outputs": []
    },
    {
      "cell_type": "code",
      "source": [
        "plt.scatter(data_test[:, 0], data_test[:, -1])\n",
        "plt.show()"
      ],
      "metadata": {
        "id": "fDNymQdFM786",
        "colab": {
          "base_uri": "https://localhost:8080/",
          "height": 265
        },
        "outputId": "7ec87d92-3b84-48d6-ac74-dc00e116e8b2"
      },
      "execution_count": 4,
      "outputs": [
        {
          "output_type": "display_data",
          "data": {
            "text/plain": [
              "<Figure size 432x288 with 1 Axes>"
            ],
            "image/png": "[encoded data removed]"
          },
          "metadata": {
            "needs_background": "light"
          }
        }
      ]
    },
    {
      "cell_type": "markdown",
      "source": [
        "## Create PyTorch model"
      ],
      "metadata": {
        "id": "7Qrticj0RW84"
      }
    },
    {
      "cell_type": "code",
      "source": [
        "class SimpleLinearRegressionModel(torch.nn.Module):\n",
        "  def __init__(self, input_features_n: int, output_features_n: int):\n",
        "    super(SimpleLinearRegressionModel, self).__init__()\n",
        "\n",
        "    # Create layers\n",
        "    self.linear = torch.nn.Linear(input_features_n, output_features_n)\n",
        "\n",
        "  def forward(self, data: torch.Tensor):\n",
        "    # Connect layers\n",
        "    y = self.linear(data)\n",
        "    return y"
      ],
      "metadata": {
        "id": "LdQZ_678QwbR"
      },
      "execution_count": 5,
      "outputs": []
    },
    {
      "cell_type": "code",
      "source": [
        "# Create the model\n",
        "model = SimpleLinearRegressionModel(1, 1)\n",
        "\n",
        "# If GPU is present, move the model to the GPU\n",
        "if torch.cuda.is_available():\n",
        "  model = model.cuda()\n",
        "  print(\"Using GPU\")\n",
        "else:\n",
        "  print(\"Using CPU\")"
      ],
      "metadata": {
        "id": "XpkFZ7S-RhW9",
        "colab": {
          "base_uri": "https://localhost:8080/"
        },
        "outputId": "fafa45a6-a463-47b1-99ab-a1cc8b3d09ed"
      },
      "execution_count": 6,
      "outputs": [
        {
          "output_type": "stream",
          "name": "stdout",
          "text": [
            "Using GPU\n"
          ]
        }
      ]
    },
    {
      "cell_type": "markdown",
      "source": [
        "## Choose loss function and optimizer"
      ],
      "metadata": {
        "id": "OE_brYczUQm2"
      }
    },
    {
      "cell_type": "code",
      "source": [
        "criterion = torch.nn.MSELoss()\n",
        "optimizer = torch.optim.SGD(model.parameters(), lr=0.000001)"
      ],
      "metadata": {
        "id": "nQ8twx0tT3qe"
      },
      "execution_count": 7,
      "outputs": []
    },
    {
      "cell_type": "markdown",
      "source": [
        "## Train the model"
      ],
      "metadata": {
        "id": "f72j4lpdWWXm"
      }
    },
    {
      "cell_type": "code",
      "source": [
        "x = Variable(torch.from_numpy(data_train[:, 0].reshape(-1, 1)), requires_grad=False)\n",
        "y = Variable(torch.from_numpy(data_train[:, 1].reshape(-1, 1)), requires_grad=False)\n",
        "if torch.cuda.is_available():\n",
        "  x = x.cuda()\n",
        "  y = y.cuda()\n",
        "\n",
        "for epoch in range(1, 10+1):\n",
        "  optimizer.zero_grad()\n",
        "  outputs = model(x)\n",
        "\n",
        "  loss = criterion(outputs, y)\n",
        "\n",
        "  # Calculate gradients\n",
        "  loss.backward()\n",
        "\n",
        "  # Run the optimizer\n",
        "  optimizer.step()\n",
        "\n",
        "  print(f\"Epoch: {epoch}, loss: {loss.item()}\")"
      ],
      "metadata": {
        "id": "g4d2pLjeUMLd",
        "colab": {
          "base_uri": "https://localhost:8080/"
        },
        "outputId": "eae6dd57-a839-4ae9-9659-8a066a967a2d"
      },
      "execution_count": 8,
      "outputs": [
        {
          "output_type": "stream",
          "name": "stdout",
          "text": [
            "Epoch: 1, loss: 390149.46875\n",
            "Epoch: 2, loss: 28297.236328125\n",
            "Epoch: 3, loss: 2081.339599609375\n",
            "Epoch: 4, loss: 182.01829528808594\n",
            "Epoch: 5, loss: 44.41397476196289\n",
            "Epoch: 6, loss: 34.44462203979492\n",
            "Epoch: 7, loss: 33.722347259521484\n",
            "Epoch: 8, loss: 33.67001724243164\n",
            "Epoch: 9, loss: 33.66623306274414\n",
            "Epoch: 10, loss: 33.66595458984375\n"
          ]
        }
      ]
    },
    {
      "cell_type": "markdown",
      "source": [
        "## Test the model"
      ],
      "metadata": {
        "id": "N2O6MUy8WYy2"
      }
    },
    {
      "cell_type": "code",
      "source": [
        "x_test = Variable(torch.from_numpy(data_test[:, 0].reshape(-1, 1)))\n",
        "y_test = Variable(torch.from_numpy(data_test[:, 1].reshape(-1, 1)))\n",
        "\n",
        "if torch.cuda.is_available():\n",
        "  x_test = x_test.cuda()\n",
        "\n",
        "y_predicted = model(x_test)\n",
        "\n",
        "if torch.cuda.is_available():\n",
        "  x_test = x_test.cpu()\n",
        "  y_predicted = y_predicted.cpu()\n",
        "  \n",
        "\n",
        "y_predicted = y_predicted.data.numpy()\n",
        "plt.clf()\n",
        "plt.plot(x_test, y_test, 'go', alpha=0.5)\n",
        "plt.plot(x_test, y_predicted, '--', alpha=0.5)\n",
        "plt.show()"
      ],
      "metadata": {
        "id": "LQ5GJGZY1ZKz",
        "colab": {
          "base_uri": "https://localhost:8080/",
          "height": 265
        },
        "outputId": "ac9a217c-fde0-4aac-ede8-fce675ea5142"
      },
      "execution_count": 9,
      "outputs": [
        {
          "output_type": "display_data",
          "data": {
            "text/plain": [
              "<Figure size 432x288 with 1 Axes>"
            ],
            "image/png": "[encoded data removed]"
          },
          "metadata": {
            "needs_background": "light"
          }
        }
      ]
    }
  ]
}